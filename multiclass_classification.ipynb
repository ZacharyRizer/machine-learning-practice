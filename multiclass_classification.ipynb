{
  "nbformat": 4,
  "nbformat_minor": 0,
  "metadata": {
    "colab": {
      "provenance": []
    },
    "kernelspec": {
      "name": "python3",
      "display_name": "Python 3"
    },
    "language_info": {
      "name": "python"
    }
  },
  "cells": [
    {
      "cell_type": "markdown",
      "source": [
        "## Classifying Newswires - _Multiclass Classification Problem_"
      ],
      "metadata": {
        "id": "KWaSirqMfL-N"
      }
    },
    {
      "cell_type": "code",
      "source": [
        "from tensorflow.keras.datasets import reuters\n",
        "\n",
        "(train_data, train_labels), (test_data, test_labels) = reuters.load_data(num_words=10000)"
      ],
      "metadata": {
        "id": "2GL6seAJfXDY"
      },
      "execution_count": 142,
      "outputs": []
    },
    {
      "cell_type": "markdown",
      "source": [
        "Preparing the data"
      ],
      "metadata": {
        "id": "wLliqDnehETZ"
      }
    },
    {
      "cell_type": "code",
      "source": [
        "import numpy as np\n",
        "\n",
        "def vectorize_sequences(sequences, dimension=10000):\n",
        "    results = np.zeros((len(sequences), dimension))\n",
        "    for i, sequence in enumerate(sequences):\n",
        "        for j in sequence:\n",
        "            results[i,j] = 1.\n",
        "    return results\n",
        "\n",
        "x_train = vectorize_sequences(train_data)\n",
        "x_test = vectorize_sequences(test_data)\n",
        "\n",
        "# -- one_hot_encoding by hand\n",
        "# def to_one_hot(labels, dimension=46):\n",
        "#     results = np.zeros((len(labels), dimension))\n",
        "#     for i, label in enumerate(labels):\n",
        "#         results[i, label] = 1.0\n",
        "#     return results\n",
        "#\n",
        "# y_train = to_one_hot(train_labels)\n",
        "# y_test = to_one_hot(test_labels)\n",
        "\n",
        "# Keras built in for the same thing\n",
        "from tensorflow.keras.utils import to_categorical\n",
        "y_train = to_categorical(train_labels)\n",
        "y_test = to_categorical(test_labels)\n",
        "\n",
        "# another way to handle the labels is to cast to an integer tensor\n",
        "# for this style of label, you need to use a different loss function, see below\n",
        "y_train_tensor = np.array(train_labels)\n",
        "y_test_tensor = np.array(test_labels)"
      ],
      "metadata": {
        "id": "tY5uEG9ZgakE"
      },
      "execution_count": 143,
      "outputs": []
    },
    {
      "cell_type": "markdown",
      "source": [
        "Looking at the different formats of the test_labels, y_test, and y_test_tensor"
      ],
      "metadata": {
        "id": "bQsFuZOkBHg6"
      }
    },
    {
      "cell_type": "code",
      "source": [
        "test_labels[0: 5]"
      ],
      "metadata": {
        "colab": {
          "base_uri": "https://localhost:8080/"
        },
        "id": "vsZH2rncA-s9",
        "outputId": "724cdc81-0e2c-4d16-f5be-6b869ce8ec24"
      },
      "execution_count": 144,
      "outputs": [
        {
          "output_type": "execute_result",
          "data": {
            "text/plain": [
              "array([ 3, 10,  1,  4,  4])"
            ]
          },
          "metadata": {},
          "execution_count": 144
        }
      ]
    },
    {
      "cell_type": "code",
      "source": [
        "y_test[0:5]"
      ],
      "metadata": {
        "colab": {
          "base_uri": "https://localhost:8080/"
        },
        "id": "ituDUFfYBGCh",
        "outputId": "37ddb815-ab91-49fd-acbc-012b3b9bb5ce"
      },
      "execution_count": 145,
      "outputs": [
        {
          "output_type": "execute_result",
          "data": {
            "text/plain": [
              "array([[0., 0., 0., 1., 0., 0., 0., 0., 0., 0., 0., 0., 0., 0., 0., 0.,\n",
              "        0., 0., 0., 0., 0., 0., 0., 0., 0., 0., 0., 0., 0., 0., 0., 0.,\n",
              "        0., 0., 0., 0., 0., 0., 0., 0., 0., 0., 0., 0., 0., 0.],\n",
              "       [0., 0., 0., 0., 0., 0., 0., 0., 0., 0., 1., 0., 0., 0., 0., 0.,\n",
              "        0., 0., 0., 0., 0., 0., 0., 0., 0., 0., 0., 0., 0., 0., 0., 0.,\n",
              "        0., 0., 0., 0., 0., 0., 0., 0., 0., 0., 0., 0., 0., 0.],\n",
              "       [0., 1., 0., 0., 0., 0., 0., 0., 0., 0., 0., 0., 0., 0., 0., 0.,\n",
              "        0., 0., 0., 0., 0., 0., 0., 0., 0., 0., 0., 0., 0., 0., 0., 0.,\n",
              "        0., 0., 0., 0., 0., 0., 0., 0., 0., 0., 0., 0., 0., 0.],\n",
              "       [0., 0., 0., 0., 1., 0., 0., 0., 0., 0., 0., 0., 0., 0., 0., 0.,\n",
              "        0., 0., 0., 0., 0., 0., 0., 0., 0., 0., 0., 0., 0., 0., 0., 0.,\n",
              "        0., 0., 0., 0., 0., 0., 0., 0., 0., 0., 0., 0., 0., 0.],\n",
              "       [0., 0., 0., 0., 1., 0., 0., 0., 0., 0., 0., 0., 0., 0., 0., 0.,\n",
              "        0., 0., 0., 0., 0., 0., 0., 0., 0., 0., 0., 0., 0., 0., 0., 0.,\n",
              "        0., 0., 0., 0., 0., 0., 0., 0., 0., 0., 0., 0., 0., 0.]],\n",
              "      dtype=float32)"
            ]
          },
          "metadata": {},
          "execution_count": 145
        }
      ]
    },
    {
      "cell_type": "code",
      "source": [
        "y_test_tensor[0:5]"
      ],
      "metadata": {
        "colab": {
          "base_uri": "https://localhost:8080/"
        },
        "id": "Utfkdj1mBGWE",
        "outputId": "0b35bf51-6ea4-4545-90b1-669556240c72"
      },
      "execution_count": 146,
      "outputs": [
        {
          "output_type": "execute_result",
          "data": {
            "text/plain": [
              "array([ 3, 10,  1,  4,  4])"
            ]
          },
          "metadata": {},
          "execution_count": 146
        }
      ]
    },
    {
      "cell_type": "markdown",
      "source": [
        "Building the model\n",
        "- compared to the binary classification problem, we need bigger layers\n",
        "- we have 46 categories/outcomes, so rather than 16 node layers, we'll go with bigger internal layers"
      ],
      "metadata": {
        "id": "4MAZx3zj4yr0"
      }
    },
    {
      "cell_type": "code",
      "source": [
        "from tensorflow import keras\n",
        "from tensorflow.keras import layers\n",
        "\n",
        "model = keras.Sequential([\n",
        "    layers.Dense(64, activation=\"relu\"),\n",
        "    layers.Dense(64, activation=\"relu\"),\n",
        "    layers.Dense(46, activation=\"softmax\")\n",
        "])\n",
        "\n",
        "# if using the integer tensor approach, use \"sparse_categorical_crossentropy\" for loss\n",
        "model.compile(optimizer=\"rmsprop\",\n",
        "              loss=\"categorical_crossentropy\",\n",
        "              metrics=[\"accuracy\"])"
      ],
      "metadata": {
        "id": "QB-_ovDIg3NS"
      },
      "execution_count": 147,
      "outputs": []
    },
    {
      "cell_type": "markdown",
      "source": [
        "Validating the approach"
      ],
      "metadata": {
        "id": "wCYb5uyJ6KYE"
      }
    },
    {
      "cell_type": "code",
      "source": [
        "x_val = x_train[:1000]\n",
        "partial_x_train = x_train[1000:]\n",
        "y_val = y_train[:1000]\n",
        "partial_y_train = y_train[1000:]\n",
        "\n",
        "history = model.fit(partial_x_train,\n",
        "                    partial_y_train,\n",
        "                    epochs=20,\n",
        "                    batch_size=512,\n",
        "                    validation_data=(x_val, y_val))"
      ],
      "metadata": {
        "colab": {
          "base_uri": "https://localhost:8080/"
        },
        "id": "kxnaMnqF5nrV",
        "outputId": "e1310744-7a91-424c-8046-8970bf0d3612"
      },
      "execution_count": 148,
      "outputs": [
        {
          "output_type": "stream",
          "name": "stdout",
          "text": [
            "Epoch 1/20\n",
            "16/16 [==============================] - 1s 40ms/step - loss: 2.8684 - accuracy: 0.4924 - val_loss: 1.9383 - val_accuracy: 0.6120\n",
            "Epoch 2/20\n",
            "16/16 [==============================] - 0s 27ms/step - loss: 1.5986 - accuracy: 0.6714 - val_loss: 1.4145 - val_accuracy: 0.6800\n",
            "Epoch 3/20\n",
            "16/16 [==============================] - 0s 28ms/step - loss: 1.2099 - accuracy: 0.7388 - val_loss: 1.2063 - val_accuracy: 0.7260\n",
            "Epoch 4/20\n",
            "16/16 [==============================] - 0s 28ms/step - loss: 0.9765 - accuracy: 0.7925 - val_loss: 1.0854 - val_accuracy: 0.7730\n",
            "Epoch 5/20\n",
            "16/16 [==============================] - 0s 27ms/step - loss: 0.8076 - accuracy: 0.8299 - val_loss: 1.0188 - val_accuracy: 0.7940\n",
            "Epoch 6/20\n",
            "16/16 [==============================] - 0s 28ms/step - loss: 0.6706 - accuracy: 0.8563 - val_loss: 0.9453 - val_accuracy: 0.8140\n",
            "Epoch 7/20\n",
            "16/16 [==============================] - 0s 27ms/step - loss: 0.5669 - accuracy: 0.8809 - val_loss: 0.9194 - val_accuracy: 0.8170\n",
            "Epoch 8/20\n",
            "16/16 [==============================] - 0s 27ms/step - loss: 0.4744 - accuracy: 0.9007 - val_loss: 0.9134 - val_accuracy: 0.8100\n",
            "Epoch 9/20\n",
            "16/16 [==============================] - 0s 27ms/step - loss: 0.4028 - accuracy: 0.9138 - val_loss: 0.8828 - val_accuracy: 0.8190\n",
            "Epoch 10/20\n",
            "16/16 [==============================] - 0s 28ms/step - loss: 0.3461 - accuracy: 0.9271 - val_loss: 0.9237 - val_accuracy: 0.8050\n",
            "Epoch 11/20\n",
            "16/16 [==============================] - 0s 28ms/step - loss: 0.2986 - accuracy: 0.9351 - val_loss: 0.9214 - val_accuracy: 0.8010\n",
            "Epoch 12/20\n",
            "16/16 [==============================] - 0s 28ms/step - loss: 0.2623 - accuracy: 0.9429 - val_loss: 0.8769 - val_accuracy: 0.8230\n",
            "Epoch 13/20\n",
            "16/16 [==============================] - 0s 28ms/step - loss: 0.2334 - accuracy: 0.9474 - val_loss: 0.8726 - val_accuracy: 0.8260\n",
            "Epoch 14/20\n",
            "16/16 [==============================] - 0s 27ms/step - loss: 0.2109 - accuracy: 0.9501 - val_loss: 0.8947 - val_accuracy: 0.8270\n",
            "Epoch 15/20\n",
            "16/16 [==============================] - 0s 27ms/step - loss: 0.1945 - accuracy: 0.9495 - val_loss: 0.8964 - val_accuracy: 0.8160\n",
            "Epoch 16/20\n",
            "16/16 [==============================] - 0s 28ms/step - loss: 0.1761 - accuracy: 0.9535 - val_loss: 0.9045 - val_accuracy: 0.8090\n",
            "Epoch 17/20\n",
            "16/16 [==============================] - 0s 28ms/step - loss: 0.1630 - accuracy: 0.9528 - val_loss: 0.9389 - val_accuracy: 0.8110\n",
            "Epoch 18/20\n",
            "16/16 [==============================] - 0s 28ms/step - loss: 0.1562 - accuracy: 0.9543 - val_loss: 0.9460 - val_accuracy: 0.8170\n",
            "Epoch 19/20\n",
            "16/16 [==============================] - 0s 28ms/step - loss: 0.1458 - accuracy: 0.9562 - val_loss: 0.9645 - val_accuracy: 0.8060\n",
            "Epoch 20/20\n",
            "16/16 [==============================] - 0s 27ms/step - loss: 0.1387 - accuracy: 0.9558 - val_loss: 0.9580 - val_accuracy: 0.8140\n"
          ]
        }
      ]
    },
    {
      "cell_type": "code",
      "source": [
        "import matplotlib.pyplot as plt\n",
        "\n",
        "history_dict = history.history\n",
        "epochs = range(1,21)\n",
        "training_loss = history_dict[\"loss\"]\n",
        "validation_loss = history_dict[\"val_loss\"]\n",
        "training_acc = history_dict[\"accuracy\"]\n",
        "validation_acc = history_dict[\"val_accuracy\"]\n"
      ],
      "metadata": {
        "id": "HdlVdDbP67G-"
      },
      "execution_count": 149,
      "outputs": []
    },
    {
      "cell_type": "markdown",
      "source": [],
      "metadata": {
        "id": "iD3j6PZO5t13"
      }
    },
    {
      "cell_type": "code",
      "source": [
        "plt.plot(epochs, training_loss, \"bo\", label='Training Loss')\n",
        "plt.plot(epochs, validation_loss, \"b\", label='Validation Loss')\n",
        "plt.title('Training vs Validation Loss')\n",
        "plt.xlabel('Epochs')\n",
        "plt.ylabel('Loss')\n",
        "plt.legend()\n",
        "plt.show()"
      ],
      "metadata": {
        "colab": {
          "base_uri": "https://localhost:8080/",
          "height": 472
        },
        "id": "_vmNVc1r7hFO",
        "outputId": "92ace928-ad00-4f84-dfac-bd41a95949b6"
      },
      "execution_count": 150,
      "outputs": [
        {
          "output_type": "display_data",
          "data": {
            "text/plain": [
              "<Figure size 640x480 with 1 Axes>"
            ],
            "image/png": "[encoded data removed]"
          },
          "metadata": {}
        }
      ]
    },
    {
      "cell_type": "code",
      "source": [
        "plt.clf()\n",
        "plt.plot(epochs, training_acc, \"bo\", label='Training Accuracy')\n",
        "plt.plot(epochs, validation_acc, \"b\", label='Validation Accuracy')\n",
        "plt.title('Training vs Validation Accuracy')\n",
        "plt.xlabel('Epochs')\n",
        "plt.ylabel('Accuracy')\n",
        "plt.legend()\n",
        "plt.show()"
      ],
      "metadata": {
        "colab": {
          "base_uri": "https://localhost:8080/",
          "height": 472
        },
        "id": "iYnYguUY782_",
        "outputId": "a279a5aa-407c-4827-9405-10dc78611deb"
      },
      "execution_count": 151,
      "outputs": [
        {
          "output_type": "display_data",
          "data": {
            "text/plain": [
              "<Figure size 640x480 with 1 Axes>"
            ],
            "image/png": "[encoded data removed]"
          },
          "metadata": {}
        }
      ]
    },
    {
      "cell_type": "markdown",
      "source": [
        "The model begins to overfit around nine epochs. Retraining and testing new model."
      ],
      "metadata": {
        "id": "k9kb-mbh8REo"
      }
    },
    {
      "cell_type": "code",
      "source": [
        "model_v2 = keras.Sequential([\n",
        "    layers.Dense(64, activation=\"relu\"),\n",
        "    layers.Dense(64, activation=\"relu\"),\n",
        "    layers.Dense(46, activation=\"softmax\")\n",
        "])\n",
        "\n",
        "model_v2.compile(optimizer=\"rmsprop\",\n",
        "                 loss=\"categorical_crossentropy\",\n",
        "                 metrics=[\"accuracy\"])\n",
        "\n",
        "model_v2.fit(x_train,\n",
        "            y_train,\n",
        "            epochs=9,\n",
        "            batch_size=512)\n",
        "\n",
        "results = model.evaluate(x_test, y_test)"
      ],
      "metadata": {
        "colab": {
          "base_uri": "https://localhost:8080/"
        },
        "id": "6sDvoIhr8Z5a",
        "outputId": "80c25025-faf8-43bb-fe1f-e772fbc8c392"
      },
      "execution_count": 152,
      "outputs": [
        {
          "output_type": "stream",
          "name": "stdout",
          "text": [
            "Epoch 1/9\n",
            "18/18 [==============================] - 1s 26ms/step - loss: 2.6668 - accuracy: 0.5126\n",
            "Epoch 2/9\n",
            "18/18 [==============================] - 0s 24ms/step - loss: 1.5262 - accuracy: 0.6782\n",
            "Epoch 3/9\n",
            "18/18 [==============================] - 0s 25ms/step - loss: 1.1733 - accuracy: 0.7487\n",
            "Epoch 4/9\n",
            "18/18 [==============================] - 0s 25ms/step - loss: 0.9499 - accuracy: 0.7988\n",
            "Epoch 5/9\n",
            "18/18 [==============================] - 0s 24ms/step - loss: 0.7848 - accuracy: 0.8344\n",
            "Epoch 6/9\n",
            "18/18 [==============================] - 0s 25ms/step - loss: 0.6529 - accuracy: 0.8612\n",
            "Epoch 7/9\n",
            "18/18 [==============================] - 0s 25ms/step - loss: 0.5427 - accuracy: 0.8880\n",
            "Epoch 8/9\n",
            "18/18 [==============================] - 0s 26ms/step - loss: 0.4580 - accuracy: 0.9022\n",
            "Epoch 9/9\n",
            "18/18 [==============================] - 0s 24ms/step - loss: 0.3881 - accuracy: 0.9169\n",
            "71/71 [==============================] - 0s 2ms/step - loss: 1.0427 - accuracy: 0.7885\n"
          ]
        }
      ]
    },
    {
      "cell_type": "code",
      "source": [
        "results"
      ],
      "metadata": {
        "colab": {
          "base_uri": "https://localhost:8080/"
        },
        "id": "66fK5QKR9I1K",
        "outputId": "0ade0e63-bc36-4607-e9ae-a24e2838e9aa"
      },
      "execution_count": 153,
      "outputs": [
        {
          "output_type": "execute_result",
          "data": {
            "text/plain": [
              "[1.0426658391952515, 0.7885128855705261]"
            ]
          },
          "metadata": {},
          "execution_count": 153
        }
      ]
    },
    {
      "cell_type": "markdown",
      "source": [
        "Generating predictions on new data"
      ],
      "metadata": {
        "id": "0LqyTQ5w-Kzn"
      }
    },
    {
      "cell_type": "code",
      "source": [
        "predictions = model_v2.predict(x_test)"
      ],
      "metadata": {
        "colab": {
          "base_uri": "https://localhost:8080/"
        },
        "id": "-VM0u8-u9J8J",
        "outputId": "b1d8f602-0e4a-4d05-9a5f-4b2a712b12f4"
      },
      "execution_count": 154,
      "outputs": [
        {
          "output_type": "stream",
          "name": "stdout",
          "text": [
            "71/71 [==============================] - 0s 2ms/step\n"
          ]
        }
      ]
    },
    {
      "cell_type": "code",
      "source": [
        "np.sum(predictions[0]) # all prediction probabilities sum to 1"
      ],
      "metadata": {
        "colab": {
          "base_uri": "https://localhost:8080/"
        },
        "id": "LG4rc96Y-WeI",
        "outputId": "da2451cd-b4ea-4ba0-c3c8-c801528676a4"
      },
      "execution_count": 155,
      "outputs": [
        {
          "output_type": "execute_result",
          "data": {
            "text/plain": [
              "0.9999998"
            ]
          },
          "metadata": {},
          "execution_count": 155
        }
      ]
    },
    {
      "cell_type": "code",
      "source": [
        "prediction_values = [np.argmax(pred) for pred in predictions]\n",
        "matched_values = [1 for pred_value, test_value in zip(prediction_values, test_labels) if pred_value == test_value]\n",
        "match_percentage = len(matched_values) / len(test_labels)\n",
        "\n",
        "match_percentage"
      ],
      "metadata": {
        "colab": {
          "base_uri": "https://localhost:8080/"
        },
        "id": "Wm575HrFDocH",
        "outputId": "c00ee8f0-c991-49f9-881b-6bc1a850ed9b"
      },
      "execution_count": 165,
      "outputs": [
        {
          "output_type": "execute_result",
          "data": {
            "text/plain": [
              "0.7938557435440784"
            ]
          },
          "metadata": {},
          "execution_count": 165
        }
      ]
    }
  ]
}